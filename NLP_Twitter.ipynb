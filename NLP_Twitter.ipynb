{
  "nbformat": 4,
  "nbformat_minor": 0,
  "metadata": {
    "colab": {
      "name": "NLP Twitter.ipynb",
      "provenance": [],
      "collapsed_sections": [],
      "authorship_tag": "ABX9TyNpfipu7dqSB+/rHrc1SjAF",
      "include_colab_link": true
    },
    "kernelspec": {
      "name": "python3",
      "display_name": "Python 3"
    },
    "language_info": {
      "name": "python"
    }
  },
  "cells": [
    {
      "cell_type": "markdown",
      "metadata": {
        "id": "view-in-github",
        "colab_type": "text"
      },
      "source": [
        "<a href=\"https://colab.research.google.com/github/luaiabuelsamen/McHacks9-TMIL/blob/master/NLP_Twitter.ipynb\" target=\"_parent\"><img src=\"https://colab.research.google.com/assets/colab-badge.svg\" alt=\"Open In Colab\"/></a>"
      ]
    },
    {
      "cell_type": "markdown",
      "source": [
        "# Cryptocurreny Market Optimism analyser"
      ],
      "metadata": {
        "id": "K__RM5YrAwW4"
      }
    },
    {
      "cell_type": "code",
      "source": [
        "!pip install transformers==4.15.0\n",
        "!pip install searchtweets"
      ],
      "metadata": {
        "colab": {
          "base_uri": "https://localhost:8080/"
        },
        "id": "Sj1wwGY2lfRr",
        "outputId": "cf387ee7-b497-4df5-defa-d0c38ef3cdd8"
      },
      "execution_count": 39,
      "outputs": [
        {
          "output_type": "stream",
          "name": "stdout",
          "text": [
            "Requirement already satisfied: transformers==4.15.0 in /usr/local/lib/python3.7/dist-packages (4.15.0)\n",
            "Requirement already satisfied: tqdm>=4.27 in /usr/local/lib/python3.7/dist-packages (from transformers==4.15.0) (4.62.3)\n",
            "Requirement already satisfied: packaging>=20.0 in /usr/local/lib/python3.7/dist-packages (from transformers==4.15.0) (21.3)\n",
            "Requirement already satisfied: tokenizers<0.11,>=0.10.1 in /usr/local/lib/python3.7/dist-packages (from transformers==4.15.0) (0.10.3)\n",
            "Requirement already satisfied: importlib-metadata in /usr/local/lib/python3.7/dist-packages (from transformers==4.15.0) (4.10.0)\n",
            "Requirement already satisfied: requests in /usr/local/lib/python3.7/dist-packages (from transformers==4.15.0) (2.23.0)\n",
            "Requirement already satisfied: huggingface-hub<1.0,>=0.1.0 in /usr/local/lib/python3.7/dist-packages (from transformers==4.15.0) (0.4.0)\n",
            "Requirement already satisfied: numpy>=1.17 in /usr/local/lib/python3.7/dist-packages (from transformers==4.15.0) (1.19.5)\n",
            "Requirement already satisfied: sacremoses in /usr/local/lib/python3.7/dist-packages (from transformers==4.15.0) (0.0.47)\n",
            "Requirement already satisfied: pyyaml>=5.1 in /usr/local/lib/python3.7/dist-packages (from transformers==4.15.0) (6.0)\n",
            "Requirement already satisfied: filelock in /usr/local/lib/python3.7/dist-packages (from transformers==4.15.0) (3.4.2)\n",
            "Requirement already satisfied: regex!=2019.12.17 in /usr/local/lib/python3.7/dist-packages (from transformers==4.15.0) (2019.12.20)\n",
            "Requirement already satisfied: typing-extensions>=3.7.4.3 in /usr/local/lib/python3.7/dist-packages (from huggingface-hub<1.0,>=0.1.0->transformers==4.15.0) (3.10.0.2)\n",
            "Requirement already satisfied: pyparsing!=3.0.5,>=2.0.2 in /usr/local/lib/python3.7/dist-packages (from packaging>=20.0->transformers==4.15.0) (3.0.6)\n",
            "Requirement already satisfied: zipp>=0.5 in /usr/local/lib/python3.7/dist-packages (from importlib-metadata->transformers==4.15.0) (3.7.0)\n",
            "Requirement already satisfied: chardet<4,>=3.0.2 in /usr/local/lib/python3.7/dist-packages (from requests->transformers==4.15.0) (3.0.4)\n",
            "Requirement already satisfied: urllib3!=1.25.0,!=1.25.1,<1.26,>=1.21.1 in /usr/local/lib/python3.7/dist-packages (from requests->transformers==4.15.0) (1.24.3)\n",
            "Requirement already satisfied: idna<3,>=2.5 in /usr/local/lib/python3.7/dist-packages (from requests->transformers==4.15.0) (2.10)\n",
            "Requirement already satisfied: certifi>=2017.4.17 in /usr/local/lib/python3.7/dist-packages (from requests->transformers==4.15.0) (2021.10.8)\n",
            "Requirement already satisfied: six in /usr/local/lib/python3.7/dist-packages (from sacremoses->transformers==4.15.0) (1.15.0)\n",
            "Requirement already satisfied: joblib in /usr/local/lib/python3.7/dist-packages (from sacremoses->transformers==4.15.0) (1.1.0)\n",
            "Requirement already satisfied: click in /usr/local/lib/python3.7/dist-packages (from sacremoses->transformers==4.15.0) (7.1.2)\n",
            "Requirement already satisfied: searchtweets in /usr/local/lib/python3.7/dist-packages (1.7.6)\n",
            "Requirement already satisfied: requests in /usr/local/lib/python3.7/dist-packages (from searchtweets) (2.23.0)\n",
            "Requirement already satisfied: tweet-parser in /usr/local/lib/python3.7/dist-packages (from searchtweets) (1.13.2)\n",
            "Requirement already satisfied: pyyaml in /usr/local/lib/python3.7/dist-packages (from searchtweets) (6.0)\n",
            "Requirement already satisfied: idna<3,>=2.5 in /usr/local/lib/python3.7/dist-packages (from requests->searchtweets) (2.10)\n",
            "Requirement already satisfied: urllib3!=1.25.0,!=1.25.1,<1.26,>=1.21.1 in /usr/local/lib/python3.7/dist-packages (from requests->searchtweets) (1.24.3)\n",
            "Requirement already satisfied: chardet<4,>=3.0.2 in /usr/local/lib/python3.7/dist-packages (from requests->searchtweets) (3.0.4)\n",
            "Requirement already satisfied: certifi>=2017.4.17 in /usr/local/lib/python3.7/dist-packages (from requests->searchtweets) (2021.10.8)\n"
          ]
        }
      ]
    },
    {
      "cell_type": "code",
      "source": [
        "!pip install tweepy==4.4.0"
      ],
      "metadata": {
        "colab": {
          "base_uri": "https://localhost:8080/"
        },
        "id": "RsuyCSYJ3tZK",
        "outputId": "75123c6d-ad4d-447a-e7bb-2e3fcc30fd2c"
      },
      "execution_count": 40,
      "outputs": [
        {
          "output_type": "stream",
          "name": "stdout",
          "text": [
            "Requirement already satisfied: tweepy==4.4.0 in /usr/local/lib/python3.7/dist-packages (4.4.0)\n",
            "Requirement already satisfied: requests-oauthlib<2,>=1.0.0 in /usr/local/lib/python3.7/dist-packages (from tweepy==4.4.0) (1.3.0)\n",
            "Requirement already satisfied: requests<3,>=2.11.1 in /usr/local/lib/python3.7/dist-packages (from tweepy==4.4.0) (2.23.0)\n",
            "Requirement already satisfied: chardet<4,>=3.0.2 in /usr/local/lib/python3.7/dist-packages (from requests<3,>=2.11.1->tweepy==4.4.0) (3.0.4)\n",
            "Requirement already satisfied: urllib3!=1.25.0,!=1.25.1,<1.26,>=1.21.1 in /usr/local/lib/python3.7/dist-packages (from requests<3,>=2.11.1->tweepy==4.4.0) (1.24.3)\n",
            "Requirement already satisfied: idna<3,>=2.5 in /usr/local/lib/python3.7/dist-packages (from requests<3,>=2.11.1->tweepy==4.4.0) (2.10)\n",
            "Requirement already satisfied: certifi>=2017.4.17 in /usr/local/lib/python3.7/dist-packages (from requests<3,>=2.11.1->tweepy==4.4.0) (2021.10.8)\n",
            "Requirement already satisfied: oauthlib>=3.0.0 in /usr/local/lib/python3.7/dist-packages (from requests-oauthlib<2,>=1.0.0->tweepy==4.4.0) (3.1.1)\n"
          ]
        }
      ]
    },
    {
      "cell_type": "markdown",
      "source": [
        "1. Import libraries and dependencies"
      ],
      "metadata": {
        "id": "KXfvzd_kzI2G"
      }
    },
    {
      "cell_type": "code",
      "source": [
        "import transformers\n",
        "import torch\n",
        "from transformers import AutoTokenizer, AutoModelForSequenceClassification\n",
        "from torch import softmax\n",
        "import numpy as np\n",
        "import pandas as pd"
      ],
      "metadata": {
        "id": "0MO3I3zZT7Pe"
      },
      "execution_count": 48,
      "outputs": []
    },
    {
      "cell_type": "markdown",
      "source": [
        "2. Load in pre-trained sentiment (positivity) prediction model\n"
      ],
      "metadata": {
        "id": "qVe28IpAzQp7"
      }
    },
    {
      "cell_type": "code",
      "source": [
        "tokenizer = AutoTokenizer.from_pretrained('nlptown/bert-base-multilingual-uncased-sentiment')\n",
        "model = AutoModelForSequenceClassification.from_pretrained('nlptown/bert-base-multilingual-uncased-sentiment')"
      ],
      "metadata": {
        "id": "3dzZXe1XULKX"
      },
      "execution_count": 127,
      "outputs": []
    },
    {
      "cell_type": "markdown",
      "source": [
        "3. Tweets import and pre-processing"
      ],
      "metadata": {
        "id": "5WA3bODn_C9v"
      }
    },
    {
      "cell_type": "code",
      "source": [
        "import tweepy\n",
        "consumer_key = \"2xahjEG9TT3v3lV2kFCdFAEjt\"\n",
        "consumer_secret = \"LuYQEXzpBRl0J3EIAYeB9t61rt7wyhMnvgFHJtWKbHUG8uib3m\"\n",
        "bearer_token = \"AAAAAAAAAAAAAAAAAAAAAJSlYQEAAAAAr0ClDhRusUwMfk5JC5N4n6HPRvE%3DsEVzWdUqW3mGF6uOCgt1umA3Dc7XOZEwA104RNBzSQSyybGAS8\"\n",
        "auth = tweepy.AppAuthHandler(consumer_key, consumer_secret)\n",
        "\n",
        "client = tweepy.Client(bearer_token, consumer_key, consumer_secret)\n",
        "t = tweepy.Paginator(client.search_recent_tweets, query='ETH',max_results=10).flatten(limit=10)"
      ],
      "metadata": {
        "id": "ciz1hMbKzvVf"
      },
      "execution_count": 72,
      "outputs": []
    },
    {
      "cell_type": "code",
      "source": [
        "tweets = []\n",
        "for tweet in t:\n",
        "    tweets.append(tweet.text)\n",
        "\n",
        "print(tweets)"
      ],
      "metadata": {
        "id": "4i1wW-7u-aS1",
        "outputId": "8f6b1fed-28d3-4b4e-8f67-5c1f942eda11",
        "colab": {
          "base_uri": "https://localhost:8080/"
        }
      },
      "execution_count": 73,
      "outputs": [
        {
          "output_type": "stream",
          "name": "stdout",
          "text": [
            "['@sn1pefx 1/1 0.02 eth https://t.co/ZSzV43n0EZ', 'RT @cz_binance: .@VitalikButerin just thanked me for the 2nd time in the last 3 months. Let’s build together. #eth #bnb 🤝', 'RT @0xAlyssaBelle: I ‘ll be giving $1000  $ETH  to the first 2999 people who follows, retweets and joins https://t.co/oQhK2sYxV5!!💸💸💸', '@Union_gal12 🐋𝐇𝐎𝐑𝐆𝐈 𝐓𝐎𝐊𝐄𝐍🐋\\n\\n🖼1ST COLLECTION NFTS RELEASED. 1000 PIECES, 5 RARITIES\\nMINT FEE 0.12 BNB \\n https://t.co/COU4mNpJNu\\n\\n✅ETH/FTM\\n✅CEX LISTINGS ON THE WAY\\nTokenomic\\n✅10% tax \\n✅5% marketing\\n✅2% staking \\nWebsite: https://t.co/cqh6Rr6e0A\\nTelegram: https://t.co/IdBqz0ob1c', 'RT @ETHGifting: 7000$ $ETH —  7 Winners 🏆\\n                               \\nTo Enter:                \\n1️⃣ Like, RT &amp; Follow \\n2️⃣ Drop Wallet…', 'RT @LauraVGems: 🚀Hold exchange or break your #NFT to obtain rewards with this revolutionary #NFTProject\\n\\n🐷 @metapiggybanks\\n🔥Burn system\\n🔥ET…', 'RT @RetsuNFT: Will send this @HAPEBEASTGANG to one random person, 6.6 $ETH ($20,628 at the time of writing) 🤩\\n\\nJust like , retweet, follow…', 'RT @MrsunNFT: Drop your ETH address. Randomly drop NFT  ✨           \\n\\n✅ Just Retweet + Follow', 'RT @cryprules: $200 | 2.8 JT | iPhone 6s • 4 Days \\n\\nretweet, like &amp; follow \\n@cpot_eth \\n@kingofxrp \\n@SheldonEvans \\n@britishcryptouk https://…', '@sailormarsnft Check it out The Special CALM CAT!\\n\\nCALM CAT X MY GIRL01 (Special)👰\\u200d♀️ \\nJust Sold out for 0.05 $ETH 🥳\\n\\nhttps://t.co/GiBN5Jor3c']\n"
          ]
        }
      ]
    },
    {
      "cell_type": "code",
      "source": [
        "import re\n",
        "def preprocess(tweets):\n",
        "    tweet_lst = pd.DataFrame(tweets)\n",
        "    tweet_lst['text'] = tweet_lst[0]\n",
        "    emoji_pattern = re.compile(\"[\"\n",
        "        u\"\\U0001F600-\\U0001F64F\"  # emoticons\n",
        "        u\"\\U0001F300-\\U0001F5FF\"  # symbols & pictographs\n",
        "        u\"\\U0001F680-\\U0001F6FF\"  # transport & map symbols\n",
        "        u\"\\U0001F1E0-\\U0001F1FF\"  # flags (iOS)\n",
        "        u\"\\U0001F1F2-\\U0001F1F4\"  # Macau flag\n",
        "        u\"\\U0001F1E6-\\U0001F1FF\"  # flags\n",
        "        u\"\\U0001F600-\\U0001F64F\"\n",
        "        u\"\\U00002702-\\U000027B0\"\n",
        "        u\"\\U000024C2-\\U0001F251\"\n",
        "        u\"\\U0001f926-\\U0001f937\"\n",
        "        u\"\\U0001F1F2\"\n",
        "        u\"\\U0001F1F4\"\n",
        "        u\"\\U0001F620\"\n",
        "        u\"\\u200d\"\n",
        "        u\"\\u2640-\\u2642\"\n",
        "        \"]+\", flags=re.UNICODE)\n",
        "    lines = lambda x: re.sub(\"\\n\", \" \",x)\n",
        "    emoji = lambda x: re.sub(emoji_pattern, \" \",x)\n",
        "    remove_rt = lambda x: re.sub('RT @\\w+: ',\" \",x)\n",
        "    rt = lambda x: re.sub(\"(@[A-Za-z0–9_]+)|([\\t])|(\\w+:\\/\\/\\S+)\",\" \",x)\n",
        "    tweet_lst['text'] = tweet_lst.text.map(remove_rt).map(rt).map(emoji).map(lines)\n",
        "    return tweet_lst\n"
      ],
      "metadata": {
        "id": "CJEPVGqvAgBb"
      },
      "execution_count": 164,
      "outputs": []
    },
    {
      "cell_type": "markdown",
      "source": [
        "4. Score tweets based on sentiment prediction"
      ],
      "metadata": {
        "id": "6LPktNECz1N7"
      }
    },
    {
      "cell_type": "code",
      "source": [
        "def pred(tweet):\n",
        "    tokens = tokenizer.encode(tweet, return_tensors='pt')\n",
        "    result = model(tokens)\n",
        "    return np.arange(1,6) @ result.logits.softmax(dim=1).tolist()[0]\n",
        "\n",
        "def get_score(lst):\n",
        "    lst['score'] = np.NaN\n",
        "    for index, row in lst.iterrows():\n",
        "        # print(lst.text[index])\n",
        "        lst['score'][index] = pred(lst['text'][index])\n",
        "    return lst\n",
        "\n",
        "get_score(preprocess(tweets))"
      ],
      "metadata": {
        "colab": {
          "base_uri": "https://localhost:8080/",
          "height": 449
        },
        "id": "892U9DYOUYNG",
        "outputId": "290bcf68-2c44-41d2-de5f-3211d73b87f6"
      },
      "execution_count": 171,
      "outputs": [
        {
          "output_type": "stream",
          "name": "stderr",
          "text": [
            "/usr/local/lib/python3.7/dist-packages/ipykernel_launcher.py:10: SettingWithCopyWarning: \n",
            "A value is trying to be set on a copy of a slice from a DataFrame\n",
            "\n",
            "See the caveats in the documentation: https://pandas.pydata.org/pandas-docs/stable/user_guide/indexing.html#returning-a-view-versus-a-copy\n",
            "  # Remove the CWD from sys.path while we load stuff.\n"
          ]
        },
        {
          "output_type": "execute_result",
          "data": {
            "text/html": [
              "\n",
              "  <div id=\"df-9a01a836-45b1-4bad-8adb-001dcabba35b\">\n",
              "    <div class=\"colab-df-container\">\n",
              "      <div>\n",
              "<style scoped>\n",
              "    .dataframe tbody tr th:only-of-type {\n",
              "        vertical-align: middle;\n",
              "    }\n",
              "\n",
              "    .dataframe tbody tr th {\n",
              "        vertical-align: top;\n",
              "    }\n",
              "\n",
              "    .dataframe thead th {\n",
              "        text-align: right;\n",
              "    }\n",
              "</style>\n",
              "<table border=\"1\" class=\"dataframe\">\n",
              "  <thead>\n",
              "    <tr style=\"text-align: right;\">\n",
              "      <th></th>\n",
              "      <th>0</th>\n",
              "      <th>text</th>\n",
              "      <th>score</th>\n",
              "    </tr>\n",
              "  </thead>\n",
              "  <tbody>\n",
              "    <tr>\n",
              "      <th>0</th>\n",
              "      <td>@sn1pefx 1/1 0.02 eth https://t.co/ZSzV43n0EZ</td>\n",
              "      <td>1pefx 1/1 0.02 eth</td>\n",
              "      <td>2.031967</td>\n",
              "    </tr>\n",
              "    <tr>\n",
              "      <th>1</th>\n",
              "      <td>RT @cz_binance: .@VitalikButerin just thanked ...</td>\n",
              "      <td>.  just thanked me for the 2nd time in the la...</td>\n",
              "      <td>4.404743</td>\n",
              "    </tr>\n",
              "    <tr>\n",
              "      <th>2</th>\n",
              "      <td>RT @0xAlyssaBelle: I ‘ll be giving $1000  $ETH...</td>\n",
              "      <td>I ‘ll be giving $1000  $ETH  to the first 299...</td>\n",
              "      <td>1.631643</td>\n",
              "    </tr>\n",
              "    <tr>\n",
              "      <th>3</th>\n",
              "      <td>@Union_gal12 🐋𝐇𝐎𝐑𝐆𝐈 𝐓𝐎𝐊𝐄𝐍🐋\\n\\n🖼1ST COLLECTION ...</td>\n",
              "      <td>12       1ST COLLECTION NFTS RELEASED. 1000 P...</td>\n",
              "      <td>2.117309</td>\n",
              "    </tr>\n",
              "    <tr>\n",
              "      <th>4</th>\n",
              "      <td>RT @ETHGifting: 7000$ $ETH —  7 Winners 🏆\\n   ...</td>\n",
              "      <td>7000$ $ETH —  7 Winners                      ...</td>\n",
              "      <td>2.583581</td>\n",
              "    </tr>\n",
              "    <tr>\n",
              "      <th>5</th>\n",
              "      <td>RT @LauraVGems: 🚀Hold exchange or break your #...</td>\n",
              "      <td>Hold exchange or break your #NFT to obtain r...</td>\n",
              "      <td>2.672315</td>\n",
              "    </tr>\n",
              "    <tr>\n",
              "      <th>6</th>\n",
              "      <td>RT @RetsuNFT: Will send this @HAPEBEASTGANG to...</td>\n",
              "      <td>Will send this   to one random person, 6.6 $E...</td>\n",
              "      <td>1.495775</td>\n",
              "    </tr>\n",
              "    <tr>\n",
              "      <th>7</th>\n",
              "      <td>RT @MrsunNFT: Drop your ETH address. Randomly ...</td>\n",
              "      <td>Drop your ETH address. Randomly drop NFT     ...</td>\n",
              "      <td>1.297078</td>\n",
              "    </tr>\n",
              "    <tr>\n",
              "      <th>8</th>\n",
              "      <td>RT @cryprules: $200 | 2.8 JT | iPhone 6s • 4 D...</td>\n",
              "      <td>$200 | 2.8 JT | iPhone 6s • 4 Days   retweet,...</td>\n",
              "      <td>2.205484</td>\n",
              "    </tr>\n",
              "    <tr>\n",
              "      <th>9</th>\n",
              "      <td>@sailormarsnft Check it out The Special CALM C...</td>\n",
              "      <td>Check it out The Special CALM CAT!  CALM CAT...</td>\n",
              "      <td>2.075135</td>\n",
              "    </tr>\n",
              "  </tbody>\n",
              "</table>\n",
              "</div>\n",
              "      <button class=\"colab-df-convert\" onclick=\"convertToInteractive('df-9a01a836-45b1-4bad-8adb-001dcabba35b')\"\n",
              "              title=\"Convert this dataframe to an interactive table.\"\n",
              "              style=\"display:none;\">\n",
              "        \n",
              "  <svg xmlns=\"http://www.w3.org/2000/svg\" height=\"24px\"viewBox=\"0 0 24 24\"\n",
              "       width=\"24px\">\n",
              "    <path d=\"M0 0h24v24H0V0z\" fill=\"none\"/>\n",
              "    <path d=\"M18.56 5.44l.94 2.06.94-2.06 2.06-.94-2.06-.94-.94-2.06-.94 2.06-2.06.94zm-11 1L8.5 8.5l.94-2.06 2.06-.94-2.06-.94L8.5 2.5l-.94 2.06-2.06.94zm10 10l.94 2.06.94-2.06 2.06-.94-2.06-.94-.94-2.06-.94 2.06-2.06.94z\"/><path d=\"M17.41 7.96l-1.37-1.37c-.4-.4-.92-.59-1.43-.59-.52 0-1.04.2-1.43.59L10.3 9.45l-7.72 7.72c-.78.78-.78 2.05 0 2.83L4 21.41c.39.39.9.59 1.41.59.51 0 1.02-.2 1.41-.59l7.78-7.78 2.81-2.81c.8-.78.8-2.07 0-2.86zM5.41 20L4 18.59l7.72-7.72 1.47 1.35L5.41 20z\"/>\n",
              "  </svg>\n",
              "      </button>\n",
              "      \n",
              "  <style>\n",
              "    .colab-df-container {\n",
              "      display:flex;\n",
              "      flex-wrap:wrap;\n",
              "      gap: 12px;\n",
              "    }\n",
              "\n",
              "    .colab-df-convert {\n",
              "      background-color: #E8F0FE;\n",
              "      border: none;\n",
              "      border-radius: 50%;\n",
              "      cursor: pointer;\n",
              "      display: none;\n",
              "      fill: #1967D2;\n",
              "      height: 32px;\n",
              "      padding: 0 0 0 0;\n",
              "      width: 32px;\n",
              "    }\n",
              "\n",
              "    .colab-df-convert:hover {\n",
              "      background-color: #E2EBFA;\n",
              "      box-shadow: 0px 1px 2px rgba(60, 64, 67, 0.3), 0px 1px 3px 1px rgba(60, 64, 67, 0.15);\n",
              "      fill: #174EA6;\n",
              "    }\n",
              "\n",
              "    [theme=dark] .colab-df-convert {\n",
              "      background-color: #3B4455;\n",
              "      fill: #D2E3FC;\n",
              "    }\n",
              "\n",
              "    [theme=dark] .colab-df-convert:hover {\n",
              "      background-color: #434B5C;\n",
              "      box-shadow: 0px 1px 3px 1px rgba(0, 0, 0, 0.15);\n",
              "      filter: drop-shadow(0px 1px 2px rgba(0, 0, 0, 0.3));\n",
              "      fill: #FFFFFF;\n",
              "    }\n",
              "  </style>\n",
              "\n",
              "      <script>\n",
              "        const buttonEl =\n",
              "          document.querySelector('#df-9a01a836-45b1-4bad-8adb-001dcabba35b button.colab-df-convert');\n",
              "        buttonEl.style.display =\n",
              "          google.colab.kernel.accessAllowed ? 'block' : 'none';\n",
              "\n",
              "        async function convertToInteractive(key) {\n",
              "          const element = document.querySelector('#df-9a01a836-45b1-4bad-8adb-001dcabba35b');\n",
              "          const dataTable =\n",
              "            await google.colab.kernel.invokeFunction('convertToInteractive',\n",
              "                                                     [key], {});\n",
              "          if (!dataTable) return;\n",
              "\n",
              "          const docLinkHtml = 'Like what you see? Visit the ' +\n",
              "            '<a target=\"_blank\" href=https://colab.research.google.com/notebooks/data_table.ipynb>data table notebook</a>'\n",
              "            + ' to learn more about interactive tables.';\n",
              "          element.innerHTML = '';\n",
              "          dataTable['output_type'] = 'display_data';\n",
              "          await google.colab.output.renderOutput(dataTable, element);\n",
              "          const docLink = document.createElement('div');\n",
              "          docLink.innerHTML = docLinkHtml;\n",
              "          element.appendChild(docLink);\n",
              "        }\n",
              "      </script>\n",
              "    </div>\n",
              "  </div>\n",
              "  "
            ],
            "text/plain": [
              "                                                   0  ...     score\n",
              "0      @sn1pefx 1/1 0.02 eth https://t.co/ZSzV43n0EZ  ...  2.031967\n",
              "1  RT @cz_binance: .@VitalikButerin just thanked ...  ...  4.404743\n",
              "2  RT @0xAlyssaBelle: I ‘ll be giving $1000  $ETH...  ...  1.631643\n",
              "3  @Union_gal12 🐋𝐇𝐎𝐑𝐆𝐈 𝐓𝐎𝐊𝐄𝐍🐋\\n\\n🖼1ST COLLECTION ...  ...  2.117309\n",
              "4  RT @ETHGifting: 7000$ $ETH —  7 Winners 🏆\\n   ...  ...  2.583581\n",
              "5  RT @LauraVGems: 🚀Hold exchange or break your #...  ...  2.672315\n",
              "6  RT @RetsuNFT: Will send this @HAPEBEASTGANG to...  ...  1.495775\n",
              "7  RT @MrsunNFT: Drop your ETH address. Randomly ...  ...  1.297078\n",
              "8  RT @cryprules: $200 | 2.8 JT | iPhone 6s • 4 D...  ...  2.205484\n",
              "9  @sailormarsnft Check it out The Special CALM C...  ...  2.075135\n",
              "\n",
              "[10 rows x 3 columns]"
            ]
          },
          "metadata": {},
          "execution_count": 171
        }
      ]
    },
    {
      "cell_type": "code",
      "source": [
        "print(get_score(preprocess(tweets))['score'].mean())"
      ],
      "metadata": {
        "id": "8CVV_1BVYlFD",
        "outputId": "83081231-f9ed-45ea-f6c0-f9584695b5fc",
        "colab": {
          "base_uri": "https://localhost:8080/"
        }
      },
      "execution_count": 173,
      "outputs": [
        {
          "output_type": "stream",
          "name": "stderr",
          "text": [
            "/usr/local/lib/python3.7/dist-packages/ipykernel_launcher.py:10: SettingWithCopyWarning: \n",
            "A value is trying to be set on a copy of a slice from a DataFrame\n",
            "\n",
            "See the caveats in the documentation: https://pandas.pydata.org/pandas-docs/stable/user_guide/indexing.html#returning-a-view-versus-a-copy\n",
            "  # Remove the CWD from sys.path while we load stuff.\n"
          ]
        },
        {
          "output_type": "stream",
          "name": "stdout",
          "text": [
            "2.251503081433475\n"
          ]
        }
      ]
    }
  ]
}