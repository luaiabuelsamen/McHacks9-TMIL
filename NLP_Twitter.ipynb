{
  "nbformat": 4,
  "nbformat_minor": 0,
  "metadata": {
    "colab": {
      "name": "NLP Twitter.ipynb",
      "provenance": [],
      "collapsed_sections": [],
      "authorship_tag": "ABX9TyNoOW16IQoDstx8ZtIwmgNh",
      "include_colab_link": true
    },
    "kernelspec": {
      "name": "python3",
      "display_name": "Python 3"
    },
    "language_info": {
      "name": "python"
    }
  },
  "cells": [
    {
      "cell_type": "markdown",
      "metadata": {
        "id": "view-in-github",
        "colab_type": "text"
      },
      "source": [
        "<a href=\"https://colab.research.google.com/github/luaiabuelsamen/McHacks9-TMIL/blob/master/NLP_Twitter.ipynb\" target=\"_parent\"><img src=\"https://colab.research.google.com/assets/colab-badge.svg\" alt=\"Open In Colab\"/></a>"
      ]
    },
    {
      "cell_type": "markdown",
      "source": [
        "# Cryptocurreny Market Optimism analyser"
      ],
      "metadata": {
        "id": "K__RM5YrAwW4"
      }
    },
    {
      "cell_type": "markdown",
      "source": [
        "1. Import libraries and dependencies"
      ],
      "metadata": {
        "id": "KXfvzd_kzI2G"
      }
    },
    {
      "cell_type": "code",
      "source": [
        "import transformers\n",
        "import torch\n",
        "from transformers import AutoTokenizer, AutoModelForSequenceClassification\n",
        "from torch import softmax\n",
        "import numpy as np\n",
        "import pandas as pd"
      ],
      "metadata": {
        "id": "0MO3I3zZT7Pe"
      },
      "execution_count": 73,
      "outputs": []
    },
    {
      "cell_type": "markdown",
      "source": [
        "2. Load pre-trained multilingual sentiment (positivity) prediction model\n"
      ],
      "metadata": {
        "id": "qVe28IpAzQp7"
      }
    },
    {
      "cell_type": "code",
      "source": [
        "tokenizer = AutoTokenizer.from_pretrained('nlptown/bert-base-multilingual-uncased-sentiment')\n",
        "model = AutoModelForSequenceClassification.from_pretrained('nlptown/bert-base-multilingual-uncased-sentiment')"
      ],
      "metadata": {
        "id": "3dzZXe1XULKX"
      },
      "execution_count": 62,
      "outputs": []
    },
    {
      "cell_type": "markdown",
      "source": [
        "3. Tweets import and pre-processing"
      ],
      "metadata": {
        "id": "5WA3bODn_C9v"
      }
    },
    {
      "cell_type": "code",
      "source": [
        "import tweepy\n",
        "#Twitter API stuff\n",
        "# consumerKey = \"\"\n",
        "# consumerSecret = \"\"\n",
        "# accessToken = \"\"\n",
        "# accessTokenSecret = \"\"\n",
        "# auth = tweepy.OAuthHandler(consumerKey, consumerSecret)\n",
        "# auth.set_access_token(accessToken, accessTokenSecret)\n",
        "# api = tweepy.API(auth)\n",
        "\n"
      ],
      "metadata": {
        "id": "qwzUfiV5_Cu3"
      },
      "execution_count": 106,
      "outputs": []
    },
    {
      "cell_type": "code",
      "source": [
        ""
      ],
      "metadata": {
        "id": "CJEPVGqvAgBb"
      },
      "execution_count": null,
      "outputs": []
    },
    {
      "cell_type": "markdown",
      "source": [
        "4. Score tweets based on sentiment prediction"
      ],
      "metadata": {
        "id": "6LPktNECz1N7"
      }
    },
    {
      "cell_type": "code",
      "source": [
        "def pred(tweet):\n",
        "    tokens = tokenizer.encode(tweet, return_tensors='pt')\n",
        "    result = model(tokens)\n",
        "    return np.arange(1,6) @ result.logits.softmax(dim=1).tolist()[0]\n",
        "\n",
        "pred('This coin is a good buy, I see a lot of potential in it')"
      ],
      "metadata": {
        "colab": {
          "base_uri": "https://localhost:8080/"
        },
        "id": "892U9DYOUYNG",
        "outputId": "e48cf11f-f73e-4041-a137-b046b94f74fa"
      },
      "execution_count": 105,
      "outputs": [
        {
          "output_type": "execute_result",
          "data": {
            "text/plain": [
              "4.168526469031349"
            ]
          },
          "metadata": {},
          "execution_count": 105
        }
      ]
    },
    {
      "cell_type": "markdown",
      "source": [
        "5. Handle requests for specific coins\n"
      ],
      "metadata": {
        "id": "VT5SK3vRdBRV"
      }
    }
  ]
}